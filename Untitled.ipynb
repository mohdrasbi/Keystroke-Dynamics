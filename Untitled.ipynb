{
 "cells": [
  {
   "cell_type": "code",
   "execution_count": 52,
   "metadata": {},
   "outputs": [
    {
     "name": "stdout",
     "output_type": "stream",
     "text": [
      "[-1 -1 -1 -1 -1]\n"
     ]
    }
   ],
   "source": [
    "import pandas as pd\n",
    "from sklearn import svm\n",
    "\n",
    "df_train = pd.read_csv('data/user_0/final_data/0.csv')\n",
    "df_test = pd.read_csv('data/user_3/final_data/0.csv')\n",
    "df_train = df_train.drop(['user'], axis=1)\n",
    "df_test = df_test.drop(['user'], axis=1)\n",
    "x_train = df_train.values\n",
    "x_test = df_test.values\n",
    "clf = svm.OneClassSVM(nu=0.1, kernel=\"rbf\", gamma=0.002)\n",
    "clf.fit(x_train)\n",
    "y_test_pred = clf.predict(x_test)\n",
    "print(y_test_pred)"
   ]
  }
 ],
 "metadata": {
  "kernelspec": {
   "display_name": "Python 3",
   "language": "python",
   "name": "python3"
  },
  "language_info": {
   "codemirror_mode": {
    "name": "ipython",
    "version": 3
   },
   "file_extension": ".py",
   "mimetype": "text/x-python",
   "name": "python",
   "nbconvert_exporter": "python",
   "pygments_lexer": "ipython3",
   "version": "3.7.2"
  }
 },
 "nbformat": 4,
 "nbformat_minor": 2
}
