{
 "cells": [
  {
   "cell_type": "code",
   "execution_count": 1,
   "metadata": {},
   "outputs": [],
   "source": [
    "from functions import *"
   ]
  },
  {
   "cell_type": "code",
   "execution_count": 8,
   "metadata": {},
   "outputs": [],
   "source": [
    "train_data_0 = pd.read_csv(\"train_data/user_0/final_data/0.csv\")\n",
    "train_data_2 = pd.read_csv(\"train_data/user_2/final_data/0.csv\")\n",
    "\n",
    "test_data_0 = pd.read_csv(\"test_data/user_0/final_data/5.csv\")\n",
    "test_data_3 = pd.read_csv(\"test_data/user_3/final_data/0.csv\")\n",
    "test_data_4 = pd.read_csv(\"test_data/user_4/final_data/0.csv\")"
   ]
  },
  {
   "cell_type": "code",
   "execution_count": 9,
   "metadata": {},
   "outputs": [],
   "source": [
    "X_train_0 = train_data_0[:]\n",
    "y_train_0 = X_train_0.pop(\"user\")\n",
    "\n",
    "X_train_2 = train_data_2[:]\n",
    "y_train_2 = X_train_2.pop(\"user\")\n",
    "\n",
    "X_test_0 = test_data_0[:]\n",
    "y_test_0 = X_test_0.pop(\"user\")\n",
    "\n",
    "X_test_3 = test_data_3[:]\n",
    "y_test_3 = X_test_3.pop(\"user\")\n",
    "\n",
    "X_test_4 = test_data_4[:]\n",
    "y_test_4 = X_test_4.pop(\"user\")"
   ]
  },
  {
   "cell_type": "code",
   "execution_count": 10,
   "metadata": {},
   "outputs": [],
   "source": [
    "X_train = pd.concat([X_train_0, X_train_2])\n",
    "y_train = pd.concat([y_train_0, y_train_2])"
   ]
  },
  {
   "cell_type": "markdown",
   "metadata": {},
   "source": [
    "## SVM"
   ]
  },
  {
   "cell_type": "code",
   "execution_count": 11,
   "metadata": {},
   "outputs": [
    {
     "name": "stdout",
     "output_type": "stream",
     "text": [
      "63.63636363636363\n"
     ]
    }
   ],
   "source": [
    "clf = svm.OneClassSVM(nu=0.1, kernel=\"rbf\", gamma=0.001)\n",
    "clf.fit(X_train_0)\n",
    "y_test_pred = clf.predict(X_test_0)\n",
    "unique, counts = np.unique(y_test_pred, return_counts=True)\n",
    "counts_dict = dict(zip(unique, counts))\n",
    "if 1 in counts_dict:\n",
    "    match = (counts_dict[1] / len(y_test_pred)) * 100\n",
    "else:\n",
    "    match = 0\n",
    "\n",
    "print(match)"
   ]
  },
  {
   "cell_type": "markdown",
   "metadata": {},
   "source": [
    "## NN"
   ]
  },
  {
   "cell_type": "code",
   "execution_count": 12,
   "metadata": {},
   "outputs": [],
   "source": [
    "import tensorflow as tf\n",
    "from tensorflow import keras, layers"
   ]
  },
  {
   "cell_type": "code",
   "execution_count": 20,
   "metadata": {},
   "outputs": [],
   "source": [
    "class PrintDot(keras.callbacks.Callback):\n",
    "    def on_epoch_end(self, epoch, logs):\n",
    "        if epoch % 100 == 0: print('')\n",
    "        print('.', end='')\n",
    "    \n",
    "def build_model():\n",
    "    model = keras.Sequential([\n",
    "        layers.Dense(64, activation=tf.nn.relu, input_shape=[len(X_train.keys())]),\n",
    "        layers.Dense(64, activation=tf.nn.relu),\n",
    "        layers.Dense(1)\n",
    "    ])\n",
    "\n",
    "    optimizer = tf.keras.optimizers.RMSprop(0.001)\n",
    "\n",
    "    model.compile(loss='mean_squared_error',\n",
    "                optimizer=optimizer,\n",
    "                metrics=['mean_absolute_error', 'mean_squared_error'])\n",
    "    return model"
   ]
  },
  {
   "cell_type": "code",
   "execution_count": 21,
   "metadata": {},
   "outputs": [],
   "source": [
    "model = build_model()"
   ]
  },
  {
   "cell_type": "code",
   "execution_count": 22,
   "metadata": {},
   "outputs": [
    {
     "name": "stdout",
     "output_type": "stream",
     "text": [
      "Epoch 1/100\n",
      "32/90 [=========>....................] - ETA: 0s - loss: 301.5865 - mean_absolute_error: 17.3644 - mean_squared_error: 301.5865\n",
      "90/90 [==============================] - 0s 3ms/sample - loss: 112.0843 - mean_absolute_error: 7.7237 - mean_squared_error: 112.0843\n",
      "Epoch 2/100\n",
      "90/90 [==============================] - 0s 193us/sample - loss: 0.0825 - mean_absolute_error: 0.2177 - mean_squared_error: 0.0825\n",
      "Epoch 3/100\n",
      "90/90 [==============================] - 0s 545us/sample - loss: 0.0517 - mean_absolute_error: 0.1564 - mean_squared_error: 0.0517\n",
      "Epoch 4/100\n",
      "90/90 [==============================] - 0s 180us/sample - loss: 0.0529 - mean_absolute_error: 0.1510 - mean_squared_error: 0.0529\n",
      "Epoch 5/100\n",
      "90/90 [==============================] - 0s 232us/sample - loss: 0.1112 - mean_absolute_error: 0.2647 - mean_squared_error: 0.1112\n",
      "Epoch 6/100\n",
      "90/90 [==============================] - 0s 262us/sample - loss: 0.9383 - mean_absolute_error: 0.8651 - mean_squared_error: 0.9383\n",
      "Epoch 7/100\n",
      "90/90 [==============================] - 0s 92us/sample - loss: 20.4891 - mean_absolute_error: 4.2564 - mean_squared_error: 20.4891\n",
      "Epoch 8/100\n",
      "90/90 [==============================] - 0s 165us/sample - loss: 26.4125 - mean_absolute_error: 4.9976 - mean_squared_error: 26.4125\n",
      "Epoch 9/100\n",
      "90/90 [==============================] - 0s 92us/sample - loss: 4.0454 - mean_absolute_error: 1.9630 - mean_squared_error: 4.0454\n",
      "Epoch 10/100\n",
      "90/90 [==============================] - 0s 93us/sample - loss: 1.8692 - mean_absolute_error: 1.3474 - mean_squared_error: 1.8692\n",
      "Epoch 11/100\n",
      "90/90 [==============================] - 0s 201us/sample - loss: 5.3538 - mean_absolute_error: 2.2656 - mean_squared_error: 5.3538\n",
      "Epoch 12/100\n",
      "90/90 [==============================] - 0s 159us/sample - loss: 16.5386 - mean_absolute_error: 4.0386 - mean_squared_error: 16.5386\n",
      "Epoch 13/100\n",
      "90/90 [==============================] - 0s 92us/sample - loss: 14.6343 - mean_absolute_error: 3.7905 - mean_squared_error: 14.6344\n",
      "Epoch 14/100\n",
      "90/90 [==============================] - 0s 111us/sample - loss: 6.4646 - mean_absolute_error: 2.5284 - mean_squared_error: 6.4646\n",
      "Epoch 15/100\n",
      "90/90 [==============================] - 0s 93us/sample - loss: 5.5161 - mean_absolute_error: 2.3329 - mean_squared_error: 5.5161\n",
      "Epoch 16/100\n",
      "90/90 [==============================] - 0s 100us/sample - loss: 9.6535 - mean_absolute_error: 3.0991 - mean_squared_error: 9.6535\n",
      "Epoch 17/100\n",
      "90/90 [==============================] - 0s 95us/sample - loss: 10.0076 - mean_absolute_error: 3.1498 - mean_squared_error: 10.0076\n",
      "Epoch 18/100\n",
      "90/90 [==============================] - 0s 176us/sample - loss: 5.9238 - mean_absolute_error: 2.4257 - mean_squared_error: 5.9238\n",
      "Epoch 19/100\n",
      "90/90 [==============================] - 0s 94us/sample - loss: 5.9417 - mean_absolute_error: 2.4239 - mean_squared_error: 5.9417\n",
      "Epoch 20/100\n",
      "90/90 [==============================] - 0s 151us/sample - loss: 10.2191 - mean_absolute_error: 3.1838 - mean_squared_error: 10.2191\n",
      "Epoch 21/100\n",
      "90/90 [==============================] - 0s 100us/sample - loss: 11.2887 - mean_absolute_error: 3.3504 - mean_squared_error: 11.2887\n",
      "Epoch 22/100\n",
      "90/90 [==============================] - 0s 128us/sample - loss: 7.3880 - mean_absolute_error: 2.7098 - mean_squared_error: 7.3880\n",
      "Epoch 23/100\n",
      "90/90 [==============================] - 0s 102us/sample - loss: 6.2974 - mean_absolute_error: 2.5004 - mean_squared_error: 6.2974\n",
      "Epoch 24/100\n",
      "90/90 [==============================] - 0s 169us/sample - loss: 9.2236 - mean_absolute_error: 3.0207 - mean_squared_error: 9.2236\n",
      "Epoch 25/100\n",
      "90/90 [==============================] - 0s 140us/sample - loss: 11.3931 - mean_absolute_error: 3.3663 - mean_squared_error: 11.3931\n",
      "Epoch 26/100\n",
      "90/90 [==============================] - 0s 143us/sample - loss: 8.5993 - mean_absolute_error: 2.9235 - mean_squared_error: 8.5993\n",
      "Epoch 27/100\n",
      "90/90 [==============================] - 0s 107us/sample - loss: 6.4822 - mean_absolute_error: 2.5387 - mean_squared_error: 6.4822\n",
      "Epoch 28/100\n",
      "90/90 [==============================] - 0s 152us/sample - loss: 8.0222 - mean_absolute_error: 2.8231 - mean_squared_error: 8.0222\n",
      "Epoch 29/100\n",
      "90/90 [==============================] - 0s 159us/sample - loss: 10.5437 - mean_absolute_error: 3.2414 - mean_squared_error: 10.5437\n",
      "Epoch 30/100\n",
      "90/90 [==============================] - 0s 104us/sample - loss: 9.0137 - mean_absolute_error: 2.9964 - mean_squared_error: 9.0137\n",
      "Epoch 31/100\n",
      "90/90 [==============================] - 0s 93us/sample - loss: 7.7959 - mean_absolute_error: 2.7837 - mean_squared_error: 7.7959\n",
      "Epoch 32/100\n",
      "90/90 [==============================] - 0s 157us/sample - loss: 7.8167 - mean_absolute_error: 2.7930 - mean_squared_error: 7.8167\n",
      "Epoch 33/100\n",
      "90/90 [==============================] - 0s 142us/sample - loss: 8.6949 - mean_absolute_error: 2.9432 - mean_squared_error: 8.6949\n",
      "Epoch 34/100\n",
      "90/90 [==============================] - 0s 104us/sample - loss: 8.3359 - mean_absolute_error: 2.8846 - mean_squared_error: 8.3359\n",
      "Epoch 35/100\n",
      "90/90 [==============================] - 0s 101us/sample - loss: 8.8025 - mean_absolute_error: 2.9596 - mean_squared_error: 8.8025\n",
      "Epoch 36/100\n",
      "90/90 [==============================] - 0s 170us/sample - loss: 9.7629 - mean_absolute_error: 3.1204 - mean_squared_error: 9.7629\n",
      "Epoch 37/100\n",
      "90/90 [==============================] - 0s 92us/sample - loss: 8.7390 - mean_absolute_error: 2.9484 - mean_squared_error: 8.7390\n",
      "Epoch 38/100\n",
      "90/90 [==============================] - 0s 105us/sample - loss: 7.8511 - mean_absolute_error: 2.7965 - mean_squared_error: 7.8511\n",
      "Epoch 39/100\n",
      "90/90 [==============================] - 0s 102us/sample - loss: 8.6820 - mean_absolute_error: 2.9385 - mean_squared_error: 8.6820\n",
      "Epoch 40/100\n",
      "90/90 [==============================] - 0s 125us/sample - loss: 8.0621 - mean_absolute_error: 2.8357 - mean_squared_error: 8.0621\n",
      "Epoch 41/100\n",
      "90/90 [==============================] - 0s 164us/sample - loss: 8.2752 - mean_absolute_error: 2.8711 - mean_squared_error: 8.2752\n",
      "Epoch 42/100\n",
      "90/90 [==============================] - 0s 98us/sample - loss: 9.2362 - mean_absolute_error: 3.0353 - mean_squared_error: 9.2362\n",
      "Epoch 43/100\n",
      "90/90 [==============================] - 0s 88us/sample - loss: 8.3378 - mean_absolute_error: 2.8801 - mean_squared_error: 8.3378\n",
      "Epoch 44/100\n",
      "90/90 [==============================] - 0s 98us/sample - loss: 7.2921 - mean_absolute_error: 2.6974 - mean_squared_error: 7.2921\n",
      "Epoch 45/100\n",
      "90/90 [==============================] - ETA: 0s - loss: 7.1431 - mean_absolute_error: 2.6660 - mean_squared_error: 7.143 - 0s 108us/sample - loss: 7.3283 - mean_absolute_error: 2.7018 - mean_squared_error: 7.3283\n",
      "Epoch 46/100\n",
      "90/90 [==============================] - 0s 144us/sample - loss: 9.1299 - mean_absolute_error: 3.0171 - mean_squared_error: 9.1299\n",
      "Epoch 47/100\n",
      "90/90 [==============================] - 0s 111us/sample - loss: 9.4754 - mean_absolute_error: 3.0710 - mean_squared_error: 9.4754\n",
      "Epoch 48/100\n",
      "90/90 [==============================] - 0s 107us/sample - loss: 8.2822 - mean_absolute_error: 2.8706 - mean_squared_error: 8.2822\n",
      "Epoch 49/100\n",
      "90/90 [==============================] - 0s 99us/sample - loss: 6.4466 - mean_absolute_error: 2.5319 - mean_squared_error: 6.4466\n",
      "Epoch 50/100\n",
      "90/90 [==============================] - 0s 146us/sample - loss: 8.7441 - mean_absolute_error: 2.9517 - mean_squared_error: 8.7441\n",
      "Epoch 51/100\n",
      "90/90 [==============================] - 0s 111us/sample - loss: 9.2103 - mean_absolute_error: 3.0306 - mean_squared_error: 9.2103\n",
      "Epoch 52/100\n",
      "90/90 [==============================] - 0s 100us/sample - loss: 8.6001 - mean_absolute_error: 2.9287 - mean_squared_error: 8.6001\n",
      "Epoch 53/100\n",
      "90/90 [==============================] - 0s 105us/sample - loss: 8.0915 - mean_absolute_error: 2.8380 - mean_squared_error: 8.0915\n",
      "Epoch 54/100\n",
      "90/90 [==============================] - 0s 162us/sample - loss: 7.3053 - mean_absolute_error: 2.7010 - mean_squared_error: 7.3053\n",
      "Epoch 55/100\n",
      "90/90 [==============================] - 0s 112us/sample - loss: 7.3527 - mean_absolute_error: 2.7054 - mean_squared_error: 7.3527\n",
      "Epoch 56/100\n"
     ]
    },
    {
     "name": "stdout",
     "output_type": "stream",
     "text": [
      "90/90 [==============================] - 0s 110us/sample - loss: 8.7885 - mean_absolute_error: 2.9630 - mean_squared_error: 8.7885\n",
      "Epoch 57/100\n",
      "90/90 [==============================] - 0s 102us/sample - loss: 8.6042 - mean_absolute_error: 2.9293 - mean_squared_error: 8.6042\n",
      "Epoch 58/100\n",
      "90/90 [==============================] - 0s 101us/sample - loss: 8.3717 - mean_absolute_error: 2.8908 - mean_squared_error: 8.3717\n",
      "Epoch 59/100\n",
      "90/90 [==============================] - 0s 134us/sample - loss: 7.7644 - mean_absolute_error: 2.7821 - mean_squared_error: 7.7644\n",
      "Epoch 60/100\n",
      "90/90 [==============================] - 0s 97us/sample - loss: 7.7706 - mean_absolute_error: 2.7845 - mean_squared_error: 7.7706\n",
      "Epoch 61/100\n",
      "90/90 [==============================] - 0s 101us/sample - loss: 8.7772 - mean_absolute_error: 2.9581 - mean_squared_error: 8.7772\n",
      "Epoch 62/100\n",
      "90/90 [==============================] - 0s 100us/sample - loss: 7.2342 - mean_absolute_error: 2.6880 - mean_squared_error: 7.2342\n",
      "Epoch 63/100\n",
      "90/90 [==============================] - 0s 148us/sample - loss: 8.0398 - mean_absolute_error: 2.8305 - mean_squared_error: 8.0398\n",
      "Epoch 64/100\n",
      "90/90 [==============================] - 0s 106us/sample - loss: 8.5338 - mean_absolute_error: 2.9201 - mean_squared_error: 8.5338\n",
      "Epoch 65/100\n",
      "90/90 [==============================] - 0s 115us/sample - loss: 8.1887 - mean_absolute_error: 2.8573 - mean_squared_error: 8.1887\n",
      "Epoch 66/100\n",
      "90/90 [==============================] - 0s 128us/sample - loss: 8.0384 - mean_absolute_error: 2.8326 - mean_squared_error: 8.0384\n",
      "Epoch 67/100\n",
      "90/90 [==============================] - 0s 131us/sample - loss: 8.3431 - mean_absolute_error: 2.8850 - mean_squared_error: 8.3431\n",
      "Epoch 68/100\n",
      "90/90 [==============================] - 0s 186us/sample - loss: 7.7582 - mean_absolute_error: 2.7837 - mean_squared_error: 7.7582\n",
      "Epoch 69/100\n",
      "90/90 [==============================] - 0s 158us/sample - loss: 7.1102 - mean_absolute_error: 2.6628 - mean_squared_error: 7.1102\n",
      "Epoch 70/100\n",
      "90/90 [==============================] - 0s 106us/sample - loss: 8.0585 - mean_absolute_error: 2.8343 - mean_squared_error: 8.0585\n",
      "Epoch 71/100\n",
      "90/90 [==============================] - 0s 114us/sample - loss: 8.8250 - mean_absolute_error: 2.9664 - mean_squared_error: 8.8250\n",
      "Epoch 72/100\n",
      "90/90 [==============================] - 0s 108us/sample - loss: 8.3342 - mean_absolute_error: 2.8839 - mean_squared_error: 8.3342\n",
      "Epoch 73/100\n",
      "90/90 [==============================] - 0s 145us/sample - loss: 7.1066 - mean_absolute_error: 2.6614 - mean_squared_error: 7.1066\n",
      "Epoch 74/100\n",
      "90/90 [==============================] - 0s 137us/sample - loss: 7.2327 - mean_absolute_error: 2.6877 - mean_squared_error: 7.2327\n",
      "Epoch 75/100\n",
      "90/90 [==============================] - 0s 99us/sample - loss: 7.8505 - mean_absolute_error: 2.7959 - mean_squared_error: 7.8505\n",
      "Epoch 76/100\n",
      "90/90 [==============================] - 0s 135us/sample - loss: 9.1741 - mean_absolute_error: 3.0258 - mean_squared_error: 9.1741\n",
      "Epoch 77/100\n",
      "90/90 [==============================] - 0s 104us/sample - loss: 7.9921 - mean_absolute_error: 2.8219 - mean_squared_error: 7.9921\n",
      "Epoch 78/100\n",
      "90/90 [==============================] - 0s 152us/sample - loss: 7.0279 - mean_absolute_error: 2.6488 - mean_squared_error: 7.0279\n",
      "Epoch 79/100\n",
      "90/90 [==============================] - 0s 157us/sample - loss: 7.9468 - mean_absolute_error: 2.8145 - mean_squared_error: 7.9468\n",
      "Epoch 80/100\n",
      "90/90 [==============================] - 0s 95us/sample - loss: 8.5445 - mean_absolute_error: 2.9207 - mean_squared_error: 8.5445\n",
      "Epoch 81/100\n",
      "90/90 [==============================] - 0s 109us/sample - loss: 7.6181 - mean_absolute_error: 2.7551 - mean_squared_error: 7.6181\n",
      "Epoch 82/100\n",
      "90/90 [==============================] - 0s 134us/sample - loss: 7.6213 - mean_absolute_error: 2.7579 - mean_squared_error: 7.6213\n",
      "Epoch 83/100\n",
      "90/90 [==============================] - 0s 121us/sample - loss: 7.1944 - mean_absolute_error: 2.6781 - mean_squared_error: 7.1944\n",
      "Epoch 84/100\n",
      "90/90 [==============================] - 0s 105us/sample - loss: 8.2967 - mean_absolute_error: 2.8765 - mean_squared_error: 8.2967\n",
      "Epoch 85/100\n",
      "90/90 [==============================] - 0s 147us/sample - loss: 8.2898 - mean_absolute_error: 2.8753 - mean_squared_error: 8.2898\n",
      "Epoch 86/100\n",
      "90/90 [==============================] - 0s 122us/sample - loss: 7.6897 - mean_absolute_error: 2.7703 - mean_squared_error: 7.6897\n",
      "Epoch 87/100\n",
      "90/90 [==============================] - 0s 109us/sample - loss: 7.3370 - mean_absolute_error: 2.7052 - mean_squared_error: 7.3370\n",
      "Epoch 88/100\n",
      "90/90 [==============================] - 0s 95us/sample - loss: 7.4137 - mean_absolute_error: 2.7209 - mean_squared_error: 7.4137\n",
      "Epoch 89/100\n",
      "90/90 [==============================] - 0s 153us/sample - loss: 7.7078 - mean_absolute_error: 2.7715 - mean_squared_error: 7.7078\n",
      "Epoch 90/100\n",
      "90/90 [==============================] - 0s 139us/sample - loss: 8.8307 - mean_absolute_error: 2.9692 - mean_squared_error: 8.8307\n",
      "Epoch 91/100\n",
      "90/90 [==============================] - 0s 99us/sample - loss: 7.7724 - mean_absolute_error: 2.7822 - mean_squared_error: 7.7724\n",
      "Epoch 92/100\n",
      "90/90 [==============================] - 0s 114us/sample - loss: 7.0412 - mean_absolute_error: 2.6519 - mean_squared_error: 7.0412\n",
      "Epoch 93/100\n",
      "90/90 [==============================] - 0s 109us/sample - loss: 7.2799 - mean_absolute_error: 2.6938 - mean_squared_error: 7.2799\n",
      "Epoch 94/100\n",
      "90/90 [==============================] - 0s 133us/sample - loss: 8.2084 - mean_absolute_error: 2.8630 - mean_squared_error: 8.2084\n",
      "Epoch 95/100\n",
      "90/90 [==============================] - 0s 126us/sample - loss: 7.8172 - mean_absolute_error: 2.7928 - mean_squared_error: 7.8172\n",
      "Epoch 96/100\n",
      "90/90 [==============================] - 0s 99us/sample - loss: 7.3215 - mean_absolute_error: 2.7037 - mean_squared_error: 7.3215\n",
      "Epoch 97/100\n",
      "90/90 [==============================] - 0s 105us/sample - loss: 7.6115 - mean_absolute_error: 2.7546 - mean_squared_error: 7.6115\n",
      "Epoch 98/100\n",
      "90/90 [==============================] - 0s 141us/sample - loss: 7.7676 - mean_absolute_error: 2.7849 - mean_squared_error: 7.7676\n",
      "Epoch 99/100\n",
      "90/90 [==============================] - 0s 97us/sample - loss: 7.9689 - mean_absolute_error: 2.8185 - mean_squared_error: 7.9689\n",
      "Epoch 100/100\n",
      "90/90 [==============================] - 0s 94us/sample - loss: 7.7748 - mean_absolute_error: 2.7868 - mean_squared_error: 7.7748\n"
     ]
    },
    {
     "data": {
      "text/plain": [
       "<tensorflow.python.keras.callbacks.History at 0x13e6d54e0>"
      ]
     },
     "execution_count": 22,
     "metadata": {},
     "output_type": "execute_result"
    }
   ],
   "source": [
    "model.fit(X_train_0, y_train_0, epochs=100, callbacks=[PrintDot()])"
   ]
  },
  {
   "cell_type": "code",
   "execution_count": 27,
   "metadata": {},
   "outputs": [
    {
     "data": {
      "text/plain": [
       "array([[2.4419093],\n",
       "       [3.2428975],\n",
       "       [2.6558442],\n",
       "       [2.8329082],\n",
       "       [2.8487916],\n",
       "       [2.988975 ],\n",
       "       [2.9982867],\n",
       "       [2.1912475],\n",
       "       [2.9223423],\n",
       "       [2.773704 ],\n",
       "       [2.8497367],\n",
       "       [2.6953106],\n",
       "       [3.1451812],\n",
       "       [2.9643645],\n",
       "       [3.0054126],\n",
       "       [3.0022802],\n",
       "       [2.995162 ],\n",
       "       [2.8868155],\n",
       "       [2.8839564],\n",
       "       [2.9045968],\n",
       "       [2.876121 ]], dtype=float32)"
      ]
     },
     "execution_count": 27,
     "metadata": {},
     "output_type": "execute_result"
    }
   ],
   "source": [
    "model.predict(X_test_4)"
   ]
  },
  {
   "cell_type": "markdown",
   "metadata": {},
   "source": [
    "## MLP"
   ]
  },
  {
   "cell_type": "code",
   "execution_count": null,
   "metadata": {},
   "outputs": [],
   "source": [
    "from sklearn.neural_network import MLPClassifier"
   ]
  },
  {
   "cell_type": "code",
   "execution_count": null,
   "metadata": {},
   "outputs": [],
   "source": [
    "clf = MLPClassifier().fit(X_train, y_train)"
   ]
  },
  {
   "cell_type": "code",
   "execution_count": null,
   "metadata": {},
   "outputs": [],
   "source": [
    "clf.predict(X_test)"
   ]
  }
 ],
 "metadata": {
  "kernelspec": {
   "display_name": "Python 3",
   "language": "python",
   "name": "python3"
  },
  "language_info": {
   "codemirror_mode": {
    "name": "ipython",
    "version": 3
   },
   "file_extension": ".py",
   "mimetype": "text/x-python",
   "name": "python",
   "nbconvert_exporter": "python",
   "pygments_lexer": "ipython3",
   "version": "3.7.2"
  }
 },
 "nbformat": 4,
 "nbformat_minor": 2
}
