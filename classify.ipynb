{
 "cells": [
  {
   "cell_type": "code",
   "execution_count": 1,
   "metadata": {},
   "outputs": [],
   "source": [
    "from functions import *\n",
    "import glob"
   ]
  },
  {
   "cell_type": "markdown",
   "metadata": {},
   "source": [
    "## Load test and train data"
   ]
  },
  {
   "cell_type": "code",
   "execution_count": 2,
   "metadata": {},
   "outputs": [],
   "source": [
    "def load_data(train_ids, test_ids):\n",
    "    train_data = {}\n",
    "    test_data = {}\n",
    "    \n",
    "    for i in train_ids:\n",
    "        train_data[i] = {}\n",
    "        path = \"train_data/user_{}/final_data/\".format(i)\n",
    "        dataframes = []\n",
    "        for file in glob.glob(path + \"/*\"):\n",
    "            dataframes.append(pd.read_csv(file))\n",
    "\n",
    "        train_data[i]['data'] = pd.concat([i for i in dataframes])\n",
    "        train_data[i]['X'] = train_data[i]['data'][:]\n",
    "        train_data[i]['y'] = train_data[i]['X'].pop('user')\n",
    "        \n",
    "    for i in test_ids:\n",
    "        test_data[i] = {}\n",
    "        path = \"test_data/user_{}/final_data/\".format(i)\n",
    "        file = path + last_csv_file(path)\n",
    "        \n",
    "        test_data[i]['file'] = file\n",
    "        test_data[i]['data'] = pd.read_csv(file)\n",
    "        test_data[i]['X'] = test_data[i]['data'][:]\n",
    "        test_data[i]['y'] = test_data[i]['X'].pop('user')\n",
    "        \n",
    "    return train_data, test_data\n",
    "    "
   ]
  },
  {
   "cell_type": "code",
   "execution_count": 3,
   "metadata": {},
   "outputs": [],
   "source": [
    "train_ids = [0, 1, 2]\n",
    "test_ids = [0, 1, 2, 3, 4]\n",
    "\n",
    "train_data, test_data = load_data(train_ids, test_ids)"
   ]
  },
  {
   "cell_type": "code",
   "execution_count": 4,
   "metadata": {
    "scrolled": true
   },
   "outputs": [],
   "source": [
    "X_all_train = pd.concat([train_data[i]['X'] for i in train_ids])\n",
    "y_all_train = pd.concat([train_data[i]['y'] for i in train_ids])"
   ]
  },
  {
   "cell_type": "markdown",
   "metadata": {},
   "source": [
    "## SVM"
   ]
  },
  {
   "cell_type": "code",
   "execution_count": 5,
   "metadata": {},
   "outputs": [
    {
     "data": {
      "text/plain": [
       "'test_data/user_2/final_data/5.csv'"
      ]
     },
     "execution_count": 5,
     "metadata": {},
     "output_type": "execute_result"
    }
   ],
   "source": [
    "test_data[2]['file']"
   ]
  },
  {
   "cell_type": "code",
   "execution_count": 6,
   "metadata": {},
   "outputs": [
    {
     "name": "stdout",
     "output_type": "stream",
     "text": [
      "80.0\n"
     ]
    }
   ],
   "source": [
    "clf = svm.OneClassSVM(nu=0.1, kernel=\"rbf\", gamma=0.001)\n",
    "clf.fit(train_data[2]['X'])\n",
    "y_test_pred = clf.predict(test_data[2]['X'])\n",
    "unique, counts = np.unique(y_test_pred, return_counts=True)\n",
    "counts_dict = dict(zip(unique, counts))\n",
    "if 1 in counts_dict:\n",
    "    match = (counts_dict[1] / len(y_test_pred)) * 100\n",
    "else:\n",
    "    match = 0\n",
    "\n",
    "print(match)"
   ]
  },
  {
   "cell_type": "markdown",
   "metadata": {},
   "source": [
    "## MLP"
   ]
  },
  {
   "cell_type": "code",
   "execution_count": 7,
   "metadata": {},
   "outputs": [],
   "source": [
    "from sklearn.neural_network import MLPClassifier"
   ]
  },
  {
   "cell_type": "code",
   "execution_count": 8,
   "metadata": {},
   "outputs": [
    {
     "name": "stderr",
     "output_type": "stream",
     "text": [
      "/Library/Frameworks/Python.framework/Versions/3.7/lib/python3.7/site-packages/sklearn/neural_network/multilayer_perceptron.py:562: ConvergenceWarning: Stochastic Optimizer: Maximum iterations (200) reached and the optimization hasn't converged yet.\n",
      "  % self.max_iter, ConvergenceWarning)\n"
     ]
    }
   ],
   "source": [
    "clf = MLPClassifier().fit(X_all_train, y_all_train)"
   ]
  },
  {
   "cell_type": "code",
   "execution_count": 16,
   "metadata": {},
   "outputs": [
    {
     "name": "stdout",
     "output_type": "stream",
     "text": [
      "0 [0. 0. 0. 0. 0. 0. 0. 0. 0. 0. 0.]\n",
      "1 [1. 1. 1. 1. 1. 1. 1. 1. 1.]\n",
      "2 [2. 2. 2. 2. 2. 2. 2. 2. 2. 2. 2. 2. 2. 2. 2.]\n",
      "3 [0. 0. 0. 0. 0. 0. 0. 0. 0.]\n",
      "4 [1. 1. 1. 1. 1. 1. 1. 1. 1. 1. 1. 1. 1. 1. 1. 1. 1. 1. 1. 1. 1.]\n"
     ]
    }
   ],
   "source": [
    "for i in test_ids:\n",
    "    print(i, clf.predict(test_data[i]['X']))"
   ]
  },
  {
   "cell_type": "markdown",
   "metadata": {},
   "source": [
    "## KNN"
   ]
  },
  {
   "cell_type": "code",
   "execution_count": 10,
   "metadata": {},
   "outputs": [],
   "source": [
    "from sklearn.neighbors import KNeighborsClassifier"
   ]
  },
  {
   "cell_type": "code",
   "execution_count": 11,
   "metadata": {},
   "outputs": [],
   "source": [
    "clf = KNeighborsClassifier().fit(X_all_train, y_all_train)"
   ]
  },
  {
   "cell_type": "code",
   "execution_count": 15,
   "metadata": {},
   "outputs": [
    {
     "name": "stdout",
     "output_type": "stream",
     "text": [
      "[0. 0. 0. 0. 0. 0. 0. 0. 0. 0. 0.]\n",
      "[1. 1. 1. 1. 1. 1. 1. 1. 1.]\n",
      "[2. 2. 2. 2. 2. 2. 2. 2. 2. 2. 2. 2. 2. 2. 2.]\n",
      "[0. 0. 0. 0. 0. 0. 0. 0. 0.]\n",
      "[1. 1. 1. 1. 1. 1. 1. 1. 1. 1. 1. 1. 1. 1. 1. 1. 1. 1. 1. 1. 1.]\n"
     ]
    }
   ],
   "source": [
    "for i in test_ids:\n",
    "    print(clf.predict(test_data[i]['X']))"
   ]
  }
 ],
 "metadata": {
  "kernelspec": {
   "display_name": "Python 3",
   "language": "python",
   "name": "python3"
  },
  "language_info": {
   "codemirror_mode": {
    "name": "ipython",
    "version": 3
   },
   "file_extension": ".py",
   "mimetype": "text/x-python",
   "name": "python",
   "nbconvert_exporter": "python",
   "pygments_lexer": "ipython3",
   "version": "3.7.2"
  }
 },
 "nbformat": 4,
 "nbformat_minor": 2
}
