{
 "cells": [
  {
   "cell_type": "code",
   "execution_count": 1,
   "metadata": {},
   "outputs": [],
   "source": [
    "from functions import *\n",
    "import glob\n",
    "import matplotlib.pyplot as plt\n",
    "import itertools\n",
    "\n",
    "import warnings\n",
    "warnings.filterwarnings('ignore')"
   ]
  },
  {
   "cell_type": "markdown",
   "metadata": {},
   "source": [
    "## Load test and train data"
   ]
  },
  {
   "cell_type": "code",
   "execution_count": 2,
   "metadata": {},
   "outputs": [],
   "source": [
    "def load_data(train_ids, test_ids):\n",
    "    train_data = {}\n",
    "    test_data = {}\n",
    "    \n",
    "    for i in train_ids:\n",
    "        train_data[i] = {}\n",
    "        path = \"train_data/user_{}/final_data/\".format(i)\n",
    "        dataframes = []\n",
    "        for file in glob.glob(path + \"/*\"):\n",
    "            dataframes.append(pd.read_csv(file))\n",
    "\n",
    "        train_data[i]['data'] = pd.concat([i for i in dataframes])\n",
    "        train_data[i]['X'] = train_data[i]['data'][:]\n",
    "        train_data[i]['y'] = train_data[i]['X'].pop('user')\n",
    "        \n",
    "    for i in test_ids:\n",
    "        test_data[i] = {}\n",
    "        path = \"test_data/user_{}/final_data/\".format(i)\n",
    "        dataframes = []\n",
    "        for file in glob.glob(path + \"/*\"):\n",
    "            dataframes.append(pd.read_csv(file))\n",
    "\n",
    "        test_data[i]['data'] = pd.concat([i for i in dataframes])\n",
    "        test_data[i]['X'] = test_data[i]['data'][:]\n",
    "        test_data[i]['y'] = test_data[i]['X'].pop('user')\n",
    "        \n",
    "    return train_data, test_data\n",
    "    "
   ]
  },
  {
   "cell_type": "code",
   "execution_count": 3,
   "metadata": {},
   "outputs": [],
   "source": [
    "train_ids = [0, 1, 2, 5]\n",
    "test_ids = [0, 1, 2, 3, 4, 5]\n",
    "\n",
    "train_data, test_data = load_data(train_ids, test_ids)"
   ]
  },
  {
   "cell_type": "code",
   "execution_count": 4,
   "metadata": {
    "scrolled": true
   },
   "outputs": [],
   "source": [
    "X_all_train = pd.concat([train_data[i]['X'] for i in train_ids])\n",
    "y_all_train = pd.concat([train_data[i]['y'] for i in train_ids])"
   ]
  },
  {
   "cell_type": "markdown",
   "metadata": {},
   "source": [
    "## SVM"
   ]
  },
  {
   "cell_type": "code",
   "execution_count": 5,
   "metadata": {},
   "outputs": [
    {
     "name": "stdout",
     "output_type": "stream",
     "text": [
      "0\n",
      "60.810810810810814\n",
      "\n",
      "1\n",
      "100.0\n",
      "\n",
      "2\n",
      "75.3731343283582\n",
      "\n",
      "5\n",
      "43.956043956043956\n",
      "\n"
     ]
    }
   ],
   "source": [
    "for i in train_ids:\n",
    "    print(i)\n",
    "    clf = svm.OneClassSVM(nu=0.1, kernel=\"rbf\", gamma=0.001, tol=2)\n",
    "    clf.fit(train_data[i]['X'])\n",
    "    y_test_pred = clf.predict(test_data[i]['X'])\n",
    "    unique, counts = np.unique(y_test_pred, return_counts=True)\n",
    "    counts_dict = dict(zip(unique, counts))\n",
    "    if 1 in counts_dict:\n",
    "        match = (counts_dict[1] / len(y_test_pred)) * 100\n",
    "    else:\n",
    "        match = 0\n",
    "\n",
    "    print(match)\n",
    "    print()"
   ]
  },
  {
   "cell_type": "markdown",
   "metadata": {},
   "source": [
    "## Plots"
   ]
  },
  {
   "cell_type": "markdown",
   "metadata": {},
   "source": [
    "## 1"
   ]
  },
  {
   "cell_type": "code",
   "execution_count": 6,
   "metadata": {},
   "outputs": [],
   "source": [
    "plot_data = {}"
   ]
  },
  {
   "cell_type": "code",
   "execution_count": 7,
   "metadata": {},
   "outputs": [],
   "source": [
    "for i in train_ids:\n",
    "    clf = svm.OneClassSVM(nu=0.1, kernel=\"rbf\", gamma=0.001, tol=2)\n",
    "    clf.fit(train_data[i]['X'])\n",
    "    plot_data[i] = []\n",
    "    for j in test_ids:\n",
    "        y_test_pred = clf.predict(test_data[j]['X'])\n",
    "        unique, counts = np.unique(y_test_pred, return_counts=True)\n",
    "        counts_dict = dict(zip(unique, counts))\n",
    "        \n",
    "        if 1 in counts_dict:\n",
    "            match = (counts_dict[1] / len(y_test_pred)) * 100\n",
    "        else:\n",
    "            match = 0\n",
    "            \n",
    "        plot_data[i].append(match)\n"
   ]
  },
  {
   "cell_type": "code",
   "execution_count": 8,
   "metadata": {
    "scrolled": true
   },
   "outputs": [
    {
     "data": {
      "image/png": "[encoded data removed]",
      "text/plain": [
       "<Figure size 1080x720 with 4 Axes>"
      ]
     },
     "metadata": {
      "needs_background": "light"
     },
     "output_type": "display_data"
    }
   ],
   "source": [
    "x = test_ids[:]\n",
    "fig, (((ax1, ax2), (ax3, ax4))) = plt.subplots(2, 2, figsize=(15, 10))\n",
    "\n",
    "ax1.bar(x, plot_data[0])\n",
    "ax1.set_title(\"User 0\")\n",
    "ax1.set_ylim(0, 105)\n",
    "\n",
    "ax2.bar(x, plot_data[1])\n",
    "ax2.set_title(\"User 1\")\n",
    "ax2.set_ylim(0, 105)\n",
    "\n",
    "ax3.bar(x, plot_data[2])\n",
    "ax3.set_title(\"User 2\")\n",
    "ax3.set_ylim(0, 105)\n",
    "\n",
    "ax4.bar(x, plot_data[5])\n",
    "ax4.set_title(\"User 5\")\n",
    "ax4.set_ylim(0, 105)\n",
    "\n",
    "fig.suptitle(\"Test Data Vs. Each User's Train Data\", fontsize=25)\n",
    "fig.text(0.5, 0.07, 'User ID', ha='center', fontsize=20)\n",
    "fig.text(0.07, 0.5, 'Accuracy', va='center', rotation='vertical', \n",
    "         fontsize=20)\n",
    "\n",
    "plt.savefig(\"plots/accuracies.png\")\n"
   ]
  },
  {
   "cell_type": "markdown",
   "metadata": {},
   "source": [
    "## 2"
   ]
  },
  {
   "cell_type": "code",
   "execution_count": 19,
   "metadata": {},
   "outputs": [],
   "source": [
    "user_id = 5\n",
    "roc_filenames = {}\n",
    "for j in test_ids:\n",
    "        roc_filenames[j] = glob.glob(\"test_data/user_{}/final_data/*\".format(j))"
   ]
  },
  {
   "cell_type": "code",
   "execution_count": 20,
   "metadata": {},
   "outputs": [
    {
     "data": {
      "image/png": "[encoded data removed]",
      "text/plain": [
       "<Figure size 432x288 with 1 Axes>"
      ]
     },
     "metadata": {
      "needs_background": "light"
     },
     "output_type": "display_data"
    }
   ],
   "source": [
    "from sklearn import svm\n",
    "from sklearn.metrics import roc_curve, auc\n",
    "import matplotlib.pyplot as plt\n",
    "\n",
    "clf = svm.OneClassSVM(nu=0.1, kernel=\"rbf\", gamma=0.001, tol=2)\n",
    "clf.fit(train_data[user_id]['X'])\n",
    "\n",
    "y_true = []\n",
    "y_prob = []\n",
    "for i in test_ids:\n",
    "    if user_id == i:\n",
    "        y_true.append([1] * len(roc_filenames[i]))\n",
    "    else:\n",
    "        y_true.append([0] * len(roc_filenames[i]))\n",
    "        \n",
    "    for file in roc_filenames[i]:\n",
    "        df = pd.read_csv(file)\n",
    "        df.pop('user')\n",
    "        y_test_pred = clf.predict(df)\n",
    "        unique, counts = np.unique(y_test_pred, return_counts=True)\n",
    "        counts_dict = dict(zip(unique, counts))\n",
    "        \n",
    "        if 1 in counts_dict:\n",
    "            match = (counts_dict[1] / len(y_test_pred)) * 100\n",
    "        else:\n",
    "            match = 0\n",
    "            \n",
    "        y_prob.append(match)\n",
    "        \n",
    "y_true = list(itertools.chain.from_iterable(y_true))\n",
    "\n",
    "fpr, tpr, thresholds = roc_curve(y_true, y_prob, pos_label=1)\n",
    "roc_auc = auc(fpr, tpr)\n",
    "plt.plot(fpr, tpr, linewidth=2, label='ROC curve (area = %0.2f)' % roc_auc)\n",
    "plt.xlabel('False Positive Rate')\n",
    "plt.ylabel('True Positive Rate')\n",
    "plt.title('Receiver operating characteristic')\n",
    "plt.legend(loc=\"lower right\")\n",
    "plt.savefig('plots/user_5')\n",
    "    \n",
    "        \n",
    "    \n",
    "        "
   ]
  },
  {
   "cell_type": "code",
   "execution_count": 11,
   "metadata": {},
   "outputs": [
    {
     "data": {
      "text/plain": [
       "[1,\n",
       " 1,\n",
       " 1,\n",
       " 1,\n",
       " 1,\n",
       " 1,\n",
       " 1,\n",
       " 1,\n",
       " 1,\n",
       " 1,\n",
       " 0,\n",
       " 0,\n",
       " 0,\n",
       " 0,\n",
       " 0,\n",
       " 0,\n",
       " 0,\n",
       " 0,\n",
       " 0,\n",
       " 0,\n",
       " 0,\n",
       " 0,\n",
       " 0,\n",
       " 0,\n",
       " 0,\n",
       " 0,\n",
       " 0,\n",
       " 0,\n",
       " 0,\n",
       " 0,\n",
       " 0,\n",
       " 0,\n",
       " 0,\n",
       " 0,\n",
       " 0]"
      ]
     },
     "execution_count": 11,
     "metadata": {},
     "output_type": "execute_result"
    }
   ],
   "source": [
    "y_true"
   ]
  },
  {
   "cell_type": "code",
   "execution_count": 12,
   "metadata": {},
   "outputs": [
    {
     "data": {
      "text/plain": [
       "[36.36363636363637,\n",
       " 0,\n",
       " 83.33333333333334,\n",
       " 100.0,\n",
       " 63.63636363636363,\n",
       " 0,\n",
       " 75.0,\n",
       " 0,\n",
       " 75.0,\n",
       " 85.71428571428571,\n",
       " 0,\n",
       " 0,\n",
       " 0,\n",
       " 0,\n",
       " 0,\n",
       " 0,\n",
       " 0,\n",
       " 0,\n",
       " 0,\n",
       " 0,\n",
       " 0,\n",
       " 0,\n",
       " 0,\n",
       " 0,\n",
       " 0,\n",
       " 0,\n",
       " 0,\n",
       " 0,\n",
       " 0,\n",
       " 0,\n",
       " 0,\n",
       " 0,\n",
       " 0,\n",
       " 0,\n",
       " 0]"
      ]
     },
     "execution_count": 12,
     "metadata": {},
     "output_type": "execute_result"
    }
   ],
   "source": [
    "y_prob"
   ]
  },
  {
   "cell_type": "code",
   "execution_count": 13,
   "metadata": {},
   "outputs": [],
   "source": [
    "# from sklearn.neighbors import LocalOutlierFactor\n",
    "# for i in train_ids:\n",
    "#     print(i)\n",
    "    \n",
    "#     clf = LocalOutlierFactor(novelty=True)\n",
    "#     clf = clf.fit(train_data[i]['X'])\n",
    "#     y_test_pred = clf.predict(test_data[i]['X'])\n",
    "\n",
    "#     unique, counts = np.unique(y_test_pred, return_counts=True)\n",
    "#     counts_dict = dict(zip(unique, counts))\n",
    "#     if 1 in counts_dict:\n",
    "#         match = (counts_dict[1] / len(y_test_pred)) * 100\n",
    "#     else:\n",
    "#         match = 0\n",
    "\n",
    "#     print(match)\n",
    "#     print()"
   ]
  },
  {
   "cell_type": "code",
   "execution_count": 14,
   "metadata": {},
   "outputs": [],
   "source": [
    "# from sklearn.covariance import EllipticEnvelope\n",
    "# for i in train_ids:\n",
    "#     print(i)\n",
    "    \n",
    "#     clf = EllipticEnvelope(contamination=0.0)\n",
    "#     clf = clf.fit(train_data[i]['X'])\n",
    "#     y_test_pred = clf.predict(test_data[3]['X'])\n",
    "\n",
    "#     unique, counts = np.unique(y_test_pred, return_counts=True)\n",
    "#     counts_dict = dict(zip(unique, counts))\n",
    "#     if 1 in counts_dict:\n",
    "#         match = (counts_dict[1] / len(y_test_pred)) * 100\n",
    "#     else:\n",
    "#         match = 0\n",
    "\n",
    "#     print(match)\n",
    "#     print()"
   ]
  }
 ],
 "metadata": {
  "kernelspec": {
   "display_name": "Python 3",
   "language": "python",
   "name": "python3"
  },
  "language_info": {
   "codemirror_mode": {
    "name": "ipython",
    "version": 3
   },
   "file_extension": ".py",
   "mimetype": "text/x-python",
   "name": "python",
   "nbconvert_exporter": "python",
   "pygments_lexer": "ipython3",
   "version": "3.7.2"
  }
 },
 "nbformat": 4,
 "nbformat_minor": 2
}
