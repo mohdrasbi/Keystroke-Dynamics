{
 "cells": [
  {
   "cell_type": "code",
   "execution_count": 32,
   "metadata": {},
   "outputs": [],
   "source": [
    "from functions import *\n",
    "import glob"
   ]
  },
  {
   "cell_type": "markdown",
   "metadata": {},
   "source": [
    "## Load test and train data"
   ]
  },
  {
   "cell_type": "code",
   "execution_count": 68,
   "metadata": {},
   "outputs": [],
   "source": [
    "def load_data(train_ids, test_ids):\n",
    "    train_data = {}\n",
    "    test_data = {}\n",
    "    \n",
    "    for i in train_ids:\n",
    "        train_data[i] = {}\n",
    "        path = \"train_data/user_{}/final_data\".format(i)\n",
    "        dataframes = []\n",
    "        for file in glob.glob(path + \"/*\"):\n",
    "            dataframes.append(pd.read_csv(file))\n",
    "\n",
    "        train_data[i]['data'] = pd.concat([i for i in dataframes])\n",
    "        train_data[i]['X'] = train_data[i]['data'][:]\n",
    "        train_data[i]['y'] = train_data[i]['X'].pop('user')\n",
    "        \n",
    "    for i in test_ids:\n",
    "        test_data[i] = {}\n",
    "        path = \"test_data/user_{}/final_data\".format(i)\n",
    "        file = sorted(glob.glob(path + \"/*\"))[-1]\n",
    "        \n",
    "        test_data[i]['data'] = pd.read_csv(file)\n",
    "        test_data[i]['X'] = test_data[i]['data'][:]\n",
    "        test_data[i]['y'] = test_data[i]['X'].pop('user')\n",
    "        \n",
    "    return train_data, test_data\n",
    "    "
   ]
  },
  {
   "cell_type": "code",
   "execution_count": 69,
   "metadata": {},
   "outputs": [],
   "source": [
    "train_ids = [0, 1, 2]\n",
    "test_ids = [0, 1, 2, 3, 4]\n",
    "\n",
    "train_data, test_data = load_data(train_ids, test_ids)"
   ]
  },
  {
   "cell_type": "code",
   "execution_count": 93,
   "metadata": {},
   "outputs": [],
   "source": [
    "X_all_train = pd.concat([train_data[i]['X'] for i in train_ids])\n",
    "y_all_train = pd.concat([train_data[i]['y'] for i in train_ids])"
   ]
  },
  {
   "cell_type": "markdown",
   "metadata": {},
   "source": [
    "## SVM"
   ]
  },
  {
   "cell_type": "code",
   "execution_count": 86,
   "metadata": {},
   "outputs": [
    {
     "name": "stdout",
     "output_type": "stream",
     "text": [
      "0\n"
     ]
    }
   ],
   "source": [
    "clf = svm.OneClassSVM(nu=0.1, kernel=\"rbf\", gamma=0.001)\n",
    "clf.fit(train_data[2]['X'])\n",
    "y_test_pred = clf.predict(test_data[2]['X'])\n",
    "unique, counts = np.unique(y_test_pred, return_counts=True)\n",
    "counts_dict = dict(zip(unique, counts))\n",
    "if 1 in counts_dict:\n",
    "    match = (counts_dict[1] / len(y_test_pred)) * 100\n",
    "else:\n",
    "    match = 0\n",
    "\n",
    "print(match)"
   ]
  },
  {
   "cell_type": "markdown",
   "metadata": {},
   "source": [
    "## NN"
   ]
  },
  {
   "cell_type": "code",
   "execution_count": 72,
   "metadata": {},
   "outputs": [],
   "source": [
    "import tensorflow as tf\n",
    "from tensorflow import keras, layers"
   ]
  },
  {
   "cell_type": "code",
   "execution_count": 78,
   "metadata": {},
   "outputs": [],
   "source": [
    "class PrintDot(keras.callbacks.Callback):\n",
    "    def on_epoch_end(self, epoch, logs):\n",
    "        if epoch % 100 == 0: print('')\n",
    "        print('.', end='')\n",
    "    \n",
    "def build_model():\n",
    "    model = keras.Sequential([\n",
    "        layers.Dense(64, activation=tf.nn.relu, input_shape=[len(X_train.keys())]),\n",
    "        layers.Dense(64, activation=tf.nn.relu),\n",
    "        layers.Dense(1)\n",
    "    ])\n",
    "\n",
    "    optimizer = tf.keras.optimizers.RMSprop(0.001)\n",
    "\n",
    "    model.compile(loss='mean_squared_error',\n",
    "                optimizer=optimizer,\n",
    "                metrics=['mean_absolute_error', 'mean_squared_error'])\n",
    "    return model"
   ]
  },
  {
   "cell_type": "code",
   "execution_count": 87,
   "metadata": {},
   "outputs": [],
   "source": [
    "model = build_model()"
   ]
  },
  {
   "cell_type": "code",
   "execution_count": 90,
   "metadata": {},
   "outputs": [
    {
     "name": "stdout",
     "output_type": "stream",
     "text": [
      "\n",
      "....................................................................................................\n",
      "....................................................................................................\n",
      "....................................................................................................\n",
      "....................................................................................................\n",
      "....................................................................................................\n",
      "....................................................................................................\n",
      "....................................................................................................\n",
      "....................................................................................................\n",
      "....................................................................................................\n",
      "...................................................................................................."
     ]
    },
    {
     "data": {
      "text/plain": [
       "<tensorflow.python.keras.callbacks.History at 0x1407c6860>"
      ]
     },
     "execution_count": 90,
     "metadata": {},
     "output_type": "execute_result"
    }
   ],
   "source": [
    "model.fit(train_data[1]['X'], train_data[1]['y'],\n",
    "          epochs=1000, verbose=0, callbacks=[PrintDot()])\n"
   ]
  },
  {
   "cell_type": "code",
   "execution_count": 91,
   "metadata": {},
   "outputs": [
    {
     "name": "stdout",
     "output_type": "stream",
     "text": [
      "0\n",
      "[[3.2329824]\n",
      " [3.8330383]\n",
      " [3.7344968]\n",
      " [3.7837098]\n",
      " [4.001617 ]\n",
      " [3.8403733]\n",
      " [3.9747143]\n",
      " [3.8326738]\n",
      " [3.8357055]\n",
      " [3.8759038]\n",
      " [3.88006  ]]\n",
      "1\n",
      "[[4.974402 ]\n",
      " [4.983107 ]\n",
      " [4.9323936]\n",
      " [4.8189483]\n",
      " [4.9408913]\n",
      " [4.9464426]\n",
      " [4.926018 ]]\n",
      "2\n",
      "[[4.892499 ]\n",
      " [4.814295 ]\n",
      " [4.8950067]\n",
      " [4.787743 ]\n",
      " [4.8366976]\n",
      " [4.855925 ]\n",
      " [4.8847966]\n",
      " [4.8593183]\n",
      " [4.8658504]]\n",
      "3\n",
      "[[1.8565218]\n",
      " [2.2014353]\n",
      " [2.2623599]\n",
      " [2.4935932]\n",
      " [2.969737 ]\n",
      " [2.83403  ]\n",
      " [2.6897414]\n",
      " [2.6661458]\n",
      " [2.809738 ]]\n",
      "4\n",
      "[[4.5562377]\n",
      " [4.5158095]\n",
      " [4.496418 ]\n",
      " [4.368283 ]\n",
      " [4.4441214]\n",
      " [4.468576 ]\n",
      " [4.41387  ]\n",
      " [4.3921733]\n",
      " [4.4345345]\n",
      " [4.444201 ]\n",
      " [4.392245 ]\n",
      " [4.4262958]\n",
      " [4.404402 ]\n",
      " [4.398007 ]\n",
      " [4.438109 ]\n",
      " [4.4771895]\n",
      " [4.467653 ]\n",
      " [4.48879  ]\n",
      " [4.521465 ]\n",
      " [4.51491  ]\n",
      " [4.5436673]]\n"
     ]
    }
   ],
   "source": [
    "for i in test_ids:\n",
    "    print(i)\n",
    "    print(model.predict(test_data[i]['X']))"
   ]
  },
  {
   "cell_type": "markdown",
   "metadata": {},
   "source": [
    "## MLP"
   ]
  },
  {
   "cell_type": "code",
   "execution_count": null,
   "metadata": {},
   "outputs": [],
   "source": [
    "from sklearn.neural_network import MLPClassifier"
   ]
  },
  {
   "cell_type": "code",
   "execution_count": null,
   "metadata": {},
   "outputs": [],
   "source": [
    "clf = MLPClassifier().fit(X_train, y_train)"
   ]
  },
  {
   "cell_type": "code",
   "execution_count": null,
   "metadata": {},
   "outputs": [],
   "source": [
    "clf.predict(X_test)"
   ]
  }
 ],
 "metadata": {
  "kernelspec": {
   "display_name": "Python 3",
   "language": "python",
   "name": "python3"
  },
  "language_info": {
   "codemirror_mode": {
    "name": "ipython",
    "version": 3
   },
   "file_extension": ".py",
   "mimetype": "text/x-python",
   "name": "python",
   "nbconvert_exporter": "python",
   "pygments_lexer": "ipython3",
   "version": "3.7.2"
  }
 },
 "nbformat": 4,
 "nbformat_minor": 2
}
