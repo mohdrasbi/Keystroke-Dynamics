{
 "cells": [
  {
   "cell_type": "code",
   "execution_count": 1,
   "metadata": {},
   "outputs": [],
   "source": [
    "from functions import *"
   ]
  },
  {
   "cell_type": "code",
   "execution_count": 71,
   "metadata": {},
   "outputs": [],
   "source": [
    "train_data_0 = pd.read_csv(\"train_data/user_0/final_data/0.csv\")\n",
    "train_data_2 = pd.read_csv(\"train_data/user_2/final_data/0.csv\")\n",
    "\n",
    "test_data_0 = pd.read_csv(\"test_data/user_0/final_data/4.csv\")\n",
    "test_data_3 = pd.read_csv(\"test_data/user_3/final_data/0.csv\")\n",
    "test_data_4 = pd.read_csv(\"test_data/user_4/final_data/0.csv\")"
   ]
  },
  {
   "cell_type": "code",
   "execution_count": 3,
   "metadata": {},
   "outputs": [],
   "source": [
    "X_train_0 = train_data_0[:]\n",
    "y_train_0 = X_train_0.pop(\"user\")\n",
    "\n",
    "X_train_2 = train_data_2[:]\n",
    "y_train_2 = X_train_2.pop(\"user\")\n",
    "\n",
    "X_test_0 = test_data_0[:]\n",
    "y_test_0 = X_test_0.pop(\"user\")\n",
    "\n",
    "X_test_3 = test_data_3[:]\n",
    "y_test_3 = X_test_3.pop(\"user\")\n",
    "\n",
    "X_test_4 = test_data_4[:]\n",
    "y_test_4 = X_test_4.pop(\"user\")"
   ]
  },
  {
   "cell_type": "code",
   "execution_count": 4,
   "metadata": {},
   "outputs": [],
   "source": [
    "X_train = pd.concat([X_train_0, X_train_2])\n",
    "y_train = pd.concat([y_train_0, y_train_2])"
   ]
  },
  {
   "cell_type": "markdown",
   "metadata": {},
   "source": [
    "## SVM"
   ]
  },
  {
   "cell_type": "code",
   "execution_count": 5,
   "metadata": {},
   "outputs": [
    {
     "name": "stdout",
     "output_type": "stream",
     "text": [
      "0\n"
     ]
    }
   ],
   "source": [
    "clf = svm.OneClassSVM(nu=0.1, kernel=\"rbf\", gamma=0.001)\n",
    "clf.fit(X_train)\n",
    "y_test_pred = clf.predict(X_test)\n",
    "unique, counts = np.unique(y_test_pred, return_counts=True)\n",
    "counts_dict = dict(zip(unique, counts))\n",
    "if 1 in counts_dict:\n",
    "    match = (counts_dict[1] / len(y_test_pred)) * 100\n",
    "else:\n",
    "    match = 0\n",
    "\n",
    "print(match)"
   ]
  },
  {
   "cell_type": "markdown",
   "metadata": {},
   "source": [
    "## NN"
   ]
  },
  {
   "cell_type": "code",
   "execution_count": 47,
   "metadata": {},
   "outputs": [],
   "source": [
    "import tensorflow as tf\n",
    "from tensorflow import keras, layers"
   ]
  },
  {
   "cell_type": "code",
   "execution_count": 57,
   "metadata": {},
   "outputs": [],
   "source": [
    "def build_model():\n",
    "    model = keras.Sequential([\n",
    "        layers.Dense(64, activation=tf.nn.relu, input_shape=[len(X_train.keys())]),\n",
    "        layers.Dense(64, activation=tf.nn.relu),\n",
    "        layers.Dense(1)\n",
    "    ])\n",
    "\n",
    "    optimizer = tf.keras.optimizers.RMSprop(0.001)\n",
    "\n",
    "    model.compile(loss='mean_squared_error',\n",
    "                optimizer=optimizer,\n",
    "                metrics=['mean_absolute_error', 'mean_squared_error'])\n",
    "    return model"
   ]
  },
  {
   "cell_type": "code",
   "execution_count": 68,
   "metadata": {},
   "outputs": [],
   "source": [
    "model = build_model()"
   ]
  },
  {
   "cell_type": "code",
   "execution_count": 69,
   "metadata": {},
   "outputs": [
    {
     "name": "stdout",
     "output_type": "stream",
     "text": [
      "Epoch 1/5\n",
      "140/140 [==============================] - 0s 3ms/sample - loss: 55.3665 - mean_absolute_error: 3.8517 - mean_squared_error: 55.3665\n",
      "Epoch 2/5\n",
      "140/140 [==============================] - 0s 115us/sample - loss: 0.0132 - mean_absolute_error: 0.0751 - mean_squared_error: 0.0132\n",
      "Epoch 3/5\n",
      "140/140 [==============================] - 0s 193us/sample - loss: 0.0135 - mean_absolute_error: 0.0666 - mean_squared_error: 0.0135\n",
      "Epoch 4/5\n",
      "140/140 [==============================] - 0s 261us/sample - loss: 0.3375 - mean_absolute_error: 0.5073 - mean_squared_error: 0.3375\n",
      "Epoch 5/5\n",
      "140/140 [==============================] - 0s 120us/sample - loss: 11.1846 - mean_absolute_error: 3.1897 - mean_squared_error: 11.1846\n"
     ]
    },
    {
     "data": {
      "text/plain": [
       "<tensorflow.python.keras.callbacks.History at 0x146b74470>"
      ]
     },
     "execution_count": 69,
     "metadata": {},
     "output_type": "execute_result"
    }
   ],
   "source": [
    "model.fit(X_train_2, y_train_2, epochs=5)"
   ]
  },
  {
   "cell_type": "code",
   "execution_count": 70,
   "metadata": {},
   "outputs": [
    {
     "data": {
      "text/plain": [
       "array([[-2.958215 ],\n",
       "       [-3.7123415],\n",
       "       [-4.0229897],\n",
       "       [-4.6146717],\n",
       "       [-4.2839823],\n",
       "       [-4.2371287],\n",
       "       [-3.8715482],\n",
       "       [-3.648347 ],\n",
       "       [-4.4185715],\n",
       "       [-4.638358 ],\n",
       "       [-4.7030487],\n",
       "       [-4.659231 ],\n",
       "       [-4.33908  ],\n",
       "       [-4.30789  ],\n",
       "       [-4.103763 ],\n",
       "       [-4.1405454],\n",
       "       [-4.113856 ],\n",
       "       [-4.114778 ],\n",
       "       [-3.9328368],\n",
       "       [-3.636521 ],\n",
       "       [-3.699168 ]], dtype=float32)"
      ]
     },
     "execution_count": 70,
     "metadata": {},
     "output_type": "execute_result"
    }
   ],
   "source": [
    "model.predict(X_test)"
   ]
  },
  {
   "cell_type": "markdown",
   "metadata": {},
   "source": [
    "## MLP"
   ]
  },
  {
   "cell_type": "code",
   "execution_count": 11,
   "metadata": {},
   "outputs": [],
   "source": [
    "from sklearn.neural_network import MLPClassifier"
   ]
  },
  {
   "cell_type": "code",
   "execution_count": 12,
   "metadata": {},
   "outputs": [],
   "source": [
    "clf = MLPClassifier().fit(X_train, y_train)"
   ]
  },
  {
   "cell_type": "code",
   "execution_count": 13,
   "metadata": {},
   "outputs": [
    {
     "data": {
      "text/plain": [
       "array([2., 2., 2., 2., 2., 2., 2., 2., 2., 2., 2., 2., 2., 2., 2., 2., 2.,\n",
       "       2., 2., 2., 2.])"
      ]
     },
     "execution_count": 13,
     "metadata": {},
     "output_type": "execute_result"
    }
   ],
   "source": [
    "clf.predict(X_test)"
   ]
  }
 ],
 "metadata": {
  "kernelspec": {
   "display_name": "Python 3",
   "language": "python",
   "name": "python3"
  },
  "language_info": {
   "codemirror_mode": {
    "name": "ipython",
    "version": 3
   },
   "file_extension": ".py",
   "mimetype": "text/x-python",
   "name": "python",
   "nbconvert_exporter": "python",
   "pygments_lexer": "ipython3",
   "version": "3.7.2"
  }
 },
 "nbformat": 4,
 "nbformat_minor": 2
}
