{
 "cells": [
  {
   "cell_type": "code",
   "execution_count": 1,
   "metadata": {},
   "outputs": [],
   "source": [
    "from functions import *\n",
    "import glob\n",
    "import matplotlib.pyplot as plt\n",
    "import itertools\n",
    "\n",
    "import warnings\n",
    "warnings.filterwarnings('ignore')"
   ]
  },
  {
   "cell_type": "markdown",
   "metadata": {},
   "source": [
    "## Load test and train data"
   ]
  },
  {
   "cell_type": "code",
   "execution_count": 2,
   "metadata": {},
   "outputs": [],
   "source": [
    "def load_data(train_ids, test_ids):\n",
    "    train_data = {}\n",
    "    test_data = {}\n",
    "    \n",
    "    for i in train_ids:\n",
    "        train_data[i] = {}\n",
    "        path = \"train_data/user_{}/final_data/\".format(i)\n",
    "        dataframes = []\n",
    "        for file in glob.glob(path + \"/*\"):\n",
    "            dataframes.append(pd.read_csv(file))\n",
    "\n",
    "        train_data[i]['data'] = pd.concat([i for i in dataframes])\n",
    "        train_data[i]['X'] = train_data[i]['data'][:]\n",
    "        train_data[i]['y'] = train_data[i]['X'].pop('user')\n",
    "        \n",
    "    for i in test_ids:\n",
    "        test_data[i] = {}\n",
    "        path = \"test_data/user_{}/final_data/\".format(i)\n",
    "        file = path + last_csv_file(path)\n",
    "        \n",
    "        test_data[i]['file'] = file\n",
    "        test_data[i]['data'] = pd.read_csv(file)\n",
    "        test_data[i]['X'] = test_data[i]['data'][:]\n",
    "        test_data[i]['y'] = test_data[i]['X'].pop('user')\n",
    "        \n",
    "    return train_data, test_data\n",
    "    "
   ]
  },
  {
   "cell_type": "code",
   "execution_count": 3,
   "metadata": {},
   "outputs": [],
   "source": [
    "train_ids = [0, 1, 2, 5]\n",
    "test_ids = [0, 1, 2, 3, 4, 5]\n",
    "\n",
    "train_data, test_data = load_data(train_ids, test_ids)"
   ]
  },
  {
   "cell_type": "code",
   "execution_count": 4,
   "metadata": {
    "scrolled": true
   },
   "outputs": [],
   "source": [
    "X_all_train = pd.concat([train_data[i]['X'] for i in train_ids])\n",
    "y_all_train = pd.concat([train_data[i]['y'] for i in train_ids])"
   ]
  },
  {
   "cell_type": "markdown",
   "metadata": {},
   "source": [
    "## SVM"
   ]
  },
  {
   "cell_type": "code",
   "execution_count": 5,
   "metadata": {},
   "outputs": [
    {
     "data": {
      "text/html": [
       "<div>\n",
       "<style scoped>\n",
       "    .dataframe tbody tr th:only-of-type {\n",
       "        vertical-align: middle;\n",
       "    }\n",
       "\n",
       "    .dataframe tbody tr th {\n",
       "        vertical-align: top;\n",
       "    }\n",
       "\n",
       "    .dataframe thead th {\n",
       "        text-align: right;\n",
       "    }\n",
       "</style>\n",
       "<table border=\"1\" class=\"dataframe\">\n",
       "  <thead>\n",
       "    <tr style=\"text-align: right;\">\n",
       "      <th></th>\n",
       "      <th>ri_left</th>\n",
       "      <th>ri_right</th>\n",
       "      <th>ri_same</th>\n",
       "      <th>ri_ht</th>\n",
       "      <th>rm_left</th>\n",
       "      <th>rm_right</th>\n",
       "      <th>rm_same</th>\n",
       "      <th>rm_ht</th>\n",
       "      <th>rr_left</th>\n",
       "      <th>rr_right</th>\n",
       "      <th>...</th>\n",
       "      <th>ll_left</th>\n",
       "      <th>ll_right</th>\n",
       "      <th>ll_same</th>\n",
       "      <th>ll_ht</th>\n",
       "      <th>cpm</th>\n",
       "      <th>sb_dd</th>\n",
       "      <th>sb_ht</th>\n",
       "      <th>key_sb</th>\n",
       "      <th>accuracy</th>\n",
       "      <th>user</th>\n",
       "    </tr>\n",
       "  </thead>\n",
       "  <tbody>\n",
       "    <tr>\n",
       "      <th>0</th>\n",
       "      <td>0.210953</td>\n",
       "      <td>0.158730</td>\n",
       "      <td>0.249308</td>\n",
       "      <td>0.137119</td>\n",
       "      <td>0.182143</td>\n",
       "      <td>0.541103</td>\n",
       "      <td>0.691249</td>\n",
       "      <td>0.182143</td>\n",
       "      <td>0.188441</td>\n",
       "      <td>0.385574</td>\n",
       "      <td>...</td>\n",
       "      <td>0.144920</td>\n",
       "      <td>0.106188</td>\n",
       "      <td>0.0</td>\n",
       "      <td>0.125047</td>\n",
       "      <td>219.000000</td>\n",
       "      <td>0.504064</td>\n",
       "      <td>0.116406</td>\n",
       "      <td>0.277140</td>\n",
       "      <td>98.630137</td>\n",
       "      <td>2.0</td>\n",
       "    </tr>\n",
       "    <tr>\n",
       "      <th>1</th>\n",
       "      <td>0.164113</td>\n",
       "      <td>0.227365</td>\n",
       "      <td>0.214114</td>\n",
       "      <td>0.166109</td>\n",
       "      <td>0.221992</td>\n",
       "      <td>0.267617</td>\n",
       "      <td>0.691249</td>\n",
       "      <td>0.216592</td>\n",
       "      <td>0.228809</td>\n",
       "      <td>0.568528</td>\n",
       "      <td>...</td>\n",
       "      <td>0.238786</td>\n",
       "      <td>0.120213</td>\n",
       "      <td>0.0</td>\n",
       "      <td>0.174256</td>\n",
       "      <td>211.500000</td>\n",
       "      <td>0.401454</td>\n",
       "      <td>0.115516</td>\n",
       "      <td>0.365233</td>\n",
       "      <td>98.581560</td>\n",
       "      <td>2.0</td>\n",
       "    </tr>\n",
       "    <tr>\n",
       "      <th>2</th>\n",
       "      <td>0.150610</td>\n",
       "      <td>0.140193</td>\n",
       "      <td>0.214114</td>\n",
       "      <td>0.137108</td>\n",
       "      <td>0.411463</td>\n",
       "      <td>0.182006</td>\n",
       "      <td>0.691249</td>\n",
       "      <td>0.339838</td>\n",
       "      <td>0.184836</td>\n",
       "      <td>0.352922</td>\n",
       "      <td>...</td>\n",
       "      <td>0.204333</td>\n",
       "      <td>0.141196</td>\n",
       "      <td>0.0</td>\n",
       "      <td>0.204333</td>\n",
       "      <td>214.000000</td>\n",
       "      <td>0.304685</td>\n",
       "      <td>0.114976</td>\n",
       "      <td>0.311284</td>\n",
       "      <td>99.532710</td>\n",
       "      <td>2.0</td>\n",
       "    </tr>\n",
       "    <tr>\n",
       "      <th>3</th>\n",
       "      <td>0.196068</td>\n",
       "      <td>0.155356</td>\n",
       "      <td>0.230321</td>\n",
       "      <td>0.162061</td>\n",
       "      <td>0.206861</td>\n",
       "      <td>0.456248</td>\n",
       "      <td>1.118181</td>\n",
       "      <td>0.205998</td>\n",
       "      <td>0.211740</td>\n",
       "      <td>0.385574</td>\n",
       "      <td>...</td>\n",
       "      <td>0.145726</td>\n",
       "      <td>0.151352</td>\n",
       "      <td>0.0</td>\n",
       "      <td>0.136047</td>\n",
       "      <td>206.250000</td>\n",
       "      <td>0.466511</td>\n",
       "      <td>0.118603</td>\n",
       "      <td>0.398870</td>\n",
       "      <td>100.000000</td>\n",
       "      <td>2.0</td>\n",
       "    </tr>\n",
       "    <tr>\n",
       "      <th>4</th>\n",
       "      <td>0.168181</td>\n",
       "      <td>0.158959</td>\n",
       "      <td>0.165294</td>\n",
       "      <td>0.149510</td>\n",
       "      <td>2.923249</td>\n",
       "      <td>2.078192</td>\n",
       "      <td>0.691249</td>\n",
       "      <td>2.500721</td>\n",
       "      <td>0.204977</td>\n",
       "      <td>0.385574</td>\n",
       "      <td>...</td>\n",
       "      <td>0.204077</td>\n",
       "      <td>0.134089</td>\n",
       "      <td>0.0</td>\n",
       "      <td>0.162092</td>\n",
       "      <td>195.000000</td>\n",
       "      <td>0.601633</td>\n",
       "      <td>0.107202</td>\n",
       "      <td>0.482786</td>\n",
       "      <td>99.692308</td>\n",
       "      <td>2.0</td>\n",
       "    </tr>\n",
       "    <tr>\n",
       "      <th>5</th>\n",
       "      <td>0.157534</td>\n",
       "      <td>0.126464</td>\n",
       "      <td>0.214114</td>\n",
       "      <td>0.137578</td>\n",
       "      <td>0.541220</td>\n",
       "      <td>0.144395</td>\n",
       "      <td>0.691249</td>\n",
       "      <td>0.325783</td>\n",
       "      <td>0.485640</td>\n",
       "      <td>0.385574</td>\n",
       "      <td>...</td>\n",
       "      <td>0.295873</td>\n",
       "      <td>0.194136</td>\n",
       "      <td>0.0</td>\n",
       "      <td>0.249659</td>\n",
       "      <td>197.500000</td>\n",
       "      <td>0.386289</td>\n",
       "      <td>0.121885</td>\n",
       "      <td>0.333713</td>\n",
       "      <td>100.000000</td>\n",
       "      <td>2.0</td>\n",
       "    </tr>\n",
       "    <tr>\n",
       "      <th>6</th>\n",
       "      <td>0.327709</td>\n",
       "      <td>0.165946</td>\n",
       "      <td>0.211534</td>\n",
       "      <td>0.199755</td>\n",
       "      <td>0.747822</td>\n",
       "      <td>0.118159</td>\n",
       "      <td>0.264318</td>\n",
       "      <td>0.101153</td>\n",
       "      <td>0.492757</td>\n",
       "      <td>0.235273</td>\n",
       "      <td>...</td>\n",
       "      <td>0.259964</td>\n",
       "      <td>0.141196</td>\n",
       "      <td>0.0</td>\n",
       "      <td>0.208089</td>\n",
       "      <td>201.428571</td>\n",
       "      <td>0.378001</td>\n",
       "      <td>0.113528</td>\n",
       "      <td>0.298849</td>\n",
       "      <td>99.787234</td>\n",
       "      <td>2.0</td>\n",
       "    </tr>\n",
       "  </tbody>\n",
       "</table>\n",
       "<p>7 rows × 40 columns</p>\n",
       "</div>"
      ],
      "text/plain": [
       "    ri_left  ri_right   ri_same     ri_ht   rm_left  rm_right   rm_same  \\\n",
       "0  0.210953  0.158730  0.249308  0.137119  0.182143  0.541103  0.691249   \n",
       "1  0.164113  0.227365  0.214114  0.166109  0.221992  0.267617  0.691249   \n",
       "2  0.150610  0.140193  0.214114  0.137108  0.411463  0.182006  0.691249   \n",
       "3  0.196068  0.155356  0.230321  0.162061  0.206861  0.456248  1.118181   \n",
       "4  0.168181  0.158959  0.165294  0.149510  2.923249  2.078192  0.691249   \n",
       "5  0.157534  0.126464  0.214114  0.137578  0.541220  0.144395  0.691249   \n",
       "6  0.327709  0.165946  0.211534  0.199755  0.747822  0.118159  0.264318   \n",
       "\n",
       "      rm_ht   rr_left  rr_right  ...   ll_left  ll_right  ll_same     ll_ht  \\\n",
       "0  0.182143  0.188441  0.385574  ...  0.144920  0.106188      0.0  0.125047   \n",
       "1  0.216592  0.228809  0.568528  ...  0.238786  0.120213      0.0  0.174256   \n",
       "2  0.339838  0.184836  0.352922  ...  0.204333  0.141196      0.0  0.204333   \n",
       "3  0.205998  0.211740  0.385574  ...  0.145726  0.151352      0.0  0.136047   \n",
       "4  2.500721  0.204977  0.385574  ...  0.204077  0.134089      0.0  0.162092   \n",
       "5  0.325783  0.485640  0.385574  ...  0.295873  0.194136      0.0  0.249659   \n",
       "6  0.101153  0.492757  0.235273  ...  0.259964  0.141196      0.0  0.208089   \n",
       "\n",
       "          cpm     sb_dd     sb_ht    key_sb    accuracy  user  \n",
       "0  219.000000  0.504064  0.116406  0.277140   98.630137   2.0  \n",
       "1  211.500000  0.401454  0.115516  0.365233   98.581560   2.0  \n",
       "2  214.000000  0.304685  0.114976  0.311284   99.532710   2.0  \n",
       "3  206.250000  0.466511  0.118603  0.398870  100.000000   2.0  \n",
       "4  195.000000  0.601633  0.107202  0.482786   99.692308   2.0  \n",
       "5  197.500000  0.386289  0.121885  0.333713  100.000000   2.0  \n",
       "6  201.428571  0.378001  0.113528  0.298849   99.787234   2.0  \n",
       "\n",
       "[7 rows x 40 columns]"
      ]
     },
     "execution_count": 5,
     "metadata": {},
     "output_type": "execute_result"
    }
   ],
   "source": [
    "test_data[2]['data']"
   ]
  },
  {
   "cell_type": "code",
   "execution_count": 6,
   "metadata": {},
   "outputs": [
    {
     "name": "stdout",
     "output_type": "stream",
     "text": [
      "0\n",
      "75.0\n",
      "\n",
      "1\n",
      "100.0\n",
      "\n",
      "2\n",
      "100.0\n",
      "\n",
      "5\n",
      "60.0\n",
      "\n"
     ]
    }
   ],
   "source": [
    "for i in train_ids:\n",
    "    print(i)\n",
    "    clf = svm.OneClassSVM(nu=0.1, kernel=\"rbf\", gamma=0.001, tol=2)\n",
    "    clf.fit(train_data[i]['X'])\n",
    "    y_test_pred = clf.predict(test_data[i]['X'])\n",
    "    unique, counts = np.unique(y_test_pred, return_counts=True)\n",
    "    counts_dict = dict(zip(unique, counts))\n",
    "    if 1 in counts_dict:\n",
    "        match = (counts_dict[1] / len(y_test_pred)) * 100\n",
    "    else:\n",
    "        match = 0\n",
    "\n",
    "    print(match)\n",
    "    print()"
   ]
  },
  {
   "cell_type": "markdown",
   "metadata": {},
   "source": [
    "## Plots"
   ]
  },
  {
   "cell_type": "markdown",
   "metadata": {},
   "source": [
    "## 1"
   ]
  },
  {
   "cell_type": "code",
   "execution_count": 7,
   "metadata": {},
   "outputs": [],
   "source": [
    "plot_data = {}"
   ]
  },
  {
   "cell_type": "code",
   "execution_count": 8,
   "metadata": {},
   "outputs": [],
   "source": [
    "for i in train_ids:\n",
    "    clf = svm.OneClassSVM(nu=0.1, kernel=\"rbf\", gamma=0.001, tol=2)\n",
    "    clf.fit(train_data[i]['X'])\n",
    "    plot_data[i] = []\n",
    "    for j in test_ids:\n",
    "        y_test_pred = clf.predict(test_data[j]['X'])\n",
    "        unique, counts = np.unique(y_test_pred, return_counts=True)\n",
    "        counts_dict = dict(zip(unique, counts))\n",
    "        \n",
    "        if 1 in counts_dict:\n",
    "            match = (counts_dict[1] / len(y_test_pred)) * 100\n",
    "        else:\n",
    "            match = 0\n",
    "            \n",
    "        plot_data[i].append(match)\n"
   ]
  },
  {
   "cell_type": "code",
   "execution_count": 9,
   "metadata": {
    "scrolled": true
   },
   "outputs": [
    {
     "data": {
      "image/png": "[encoded data removed]",
      "text/plain": [
       "<Figure size 1080x720 with 4 Axes>"
      ]
     },
     "metadata": {
      "needs_background": "light"
     },
     "output_type": "display_data"
    }
   ],
   "source": [
    "x = test_ids[:]\n",
    "fig, (((ax1, ax2), (ax3, ax4))) = plt.subplots(2, 2, figsize=(15, 10))\n",
    "\n",
    "ax1.bar(x, plot_data[0])\n",
    "ax1.set_title(\"User 0\")\n",
    "ax1.set_ylim(0, 105)\n",
    "\n",
    "ax2.bar(x, plot_data[1])\n",
    "ax2.set_title(\"User 1\")\n",
    "ax2.set_ylim(0, 105)\n",
    "\n",
    "ax3.bar(x, plot_data[2])\n",
    "ax3.set_title(\"User 2\")\n",
    "ax3.set_ylim(0, 105)\n",
    "\n",
    "ax4.bar(x, plot_data[5])\n",
    "ax4.set_title(\"User 5\")\n",
    "ax4.set_ylim(0, 105)\n",
    "\n",
    "fig.suptitle(\"Test Data Vs. Each User's Train Data\", fontsize=25)\n",
    "fig.text(0.5, 0.07, 'User ID', ha='center', fontsize=20)\n",
    "fig.text(0.07, 0.5, 'Accuracy', va='center', rotation='vertical', \n",
    "         fontsize=20)\n",
    "\n",
    "plt.savefig(\"plots/1.png\")\n"
   ]
  },
  {
   "cell_type": "markdown",
   "metadata": {},
   "source": [
    "## 2"
   ]
  },
  {
   "cell_type": "code",
   "execution_count": 10,
   "metadata": {},
   "outputs": [],
   "source": [
    "user_id = 0\n",
    "roc_filenames = {}\n",
    "for j in test_ids:\n",
    "        roc_filenames[j] = glob.glob(\"test_data/user_{}/final_data/*\".format(j))"
   ]
  },
  {
   "cell_type": "code",
   "execution_count": 11,
   "metadata": {},
   "outputs": [
    {
     "data": {
      "image/png": "[encoded data removed]",
      "text/plain": [
       "<Figure size 432x288 with 1 Axes>"
      ]
     },
     "metadata": {
      "needs_background": "light"
     },
     "output_type": "display_data"
    }
   ],
   "source": [
    "from sklearn import svm\n",
    "from sklearn.metrics import roc_curve, auc\n",
    "import matplotlib.pyplot as plt\n",
    "\n",
    "clf = svm.OneClassSVM(nu=0.1, kernel=\"rbf\", gamma=0.001, tol=2)\n",
    "clf.fit(train_data[user_id]['X'])\n",
    "\n",
    "y_true = []\n",
    "y_prob = []\n",
    "for i in test_ids:\n",
    "    if user_id == i:\n",
    "        y_true.append([1] * len(roc_filenames[i]))\n",
    "    else:\n",
    "        y_true.append([0] * len(roc_filenames[i]))\n",
    "        \n",
    "    for file in roc_filenames[i]:\n",
    "        df = pd.read_csv(file)\n",
    "        df.pop('user')\n",
    "        y_test_pred = clf.predict(df)\n",
    "        unique, counts = np.unique(y_test_pred, return_counts=True)\n",
    "        counts_dict = dict(zip(unique, counts))\n",
    "        \n",
    "        if 1 in counts_dict:\n",
    "            match = (counts_dict[1] / len(y_test_pred)) * 100\n",
    "        else:\n",
    "            match = 0\n",
    "            \n",
    "        y_prob.append(match)\n",
    "        \n",
    "y_true = list(itertools.chain.from_iterable(y_true))\n",
    "\n",
    "fpr, tpr, thresholds = roc_curve(y_true, y_prob, pos_label=1)\n",
    "roc_auc = auc(fpr, tpr)\n",
    "plt.plot(fpr, tpr, linewidth=2, label='ROC curve (area = %0.2f)' % roc_auc)\n",
    "plt.xlabel('False Positive Rate')\n",
    "plt.ylabel('True Positive Rate')\n",
    "plt.title('Receiver operating characteristic')\n",
    "plt.legend(loc=\"lower right\")\n",
    "plt.show()\n",
    "    \n",
    "        \n",
    "    \n",
    "        "
   ]
  },
  {
   "cell_type": "code",
   "execution_count": 12,
   "metadata": {},
   "outputs": [
    {
     "data": {
      "text/plain": [
       "[1, 1, 1, 1, 0, 0, 0, 0, 0, 0, 0, 0, 0, 0, 0]"
      ]
     },
     "execution_count": 12,
     "metadata": {},
     "output_type": "execute_result"
    }
   ],
   "source": [
    "y_true"
   ]
  },
  {
   "cell_type": "code",
   "execution_count": 13,
   "metadata": {},
   "outputs": [
    {
     "data": {
      "text/plain": [
       "[63.63636363636363, 0, 75.0, 0, 0, 0, 0, 0, 0, 0, 0, 0, 0, 0, 0]"
      ]
     },
     "execution_count": 13,
     "metadata": {},
     "output_type": "execute_result"
    }
   ],
   "source": [
    "y_prob"
   ]
  },
  {
   "cell_type": "code",
   "execution_count": 14,
   "metadata": {},
   "outputs": [],
   "source": [
    "# from sklearn.neighbors import LocalOutlierFactor\n",
    "# for i in train_ids:\n",
    "#     print(i)\n",
    "    \n",
    "#     clf = LocalOutlierFactor(novelty=True)\n",
    "#     clf = clf.fit(train_data[i]['X'])\n",
    "#     y_test_pred = clf.predict(test_data[i]['X'])\n",
    "\n",
    "#     unique, counts = np.unique(y_test_pred, return_counts=True)\n",
    "#     counts_dict = dict(zip(unique, counts))\n",
    "#     if 1 in counts_dict:\n",
    "#         match = (counts_dict[1] / len(y_test_pred)) * 100\n",
    "#     else:\n",
    "#         match = 0\n",
    "\n",
    "#     print(match)\n",
    "#     print()"
   ]
  },
  {
   "cell_type": "code",
   "execution_count": 15,
   "metadata": {},
   "outputs": [],
   "source": [
    "# from sklearn.covariance import EllipticEnvelope\n",
    "# for i in train_ids:\n",
    "#     print(i)\n",
    "    \n",
    "#     clf = EllipticEnvelope(contamination=0.0)\n",
    "#     clf = clf.fit(train_data[i]['X'])\n",
    "#     y_test_pred = clf.predict(test_data[3]['X'])\n",
    "\n",
    "#     unique, counts = np.unique(y_test_pred, return_counts=True)\n",
    "#     counts_dict = dict(zip(unique, counts))\n",
    "#     if 1 in counts_dict:\n",
    "#         match = (counts_dict[1] / len(y_test_pred)) * 100\n",
    "#     else:\n",
    "#         match = 0\n",
    "\n",
    "#     print(match)\n",
    "#     print()"
   ]
  }
 ],
 "metadata": {
  "kernelspec": {
   "display_name": "Python 3",
   "language": "python",
   "name": "python3"
  },
  "language_info": {
   "codemirror_mode": {
    "name": "ipython",
    "version": 3
   },
   "file_extension": ".py",
   "mimetype": "text/x-python",
   "name": "python",
   "nbconvert_exporter": "python",
   "pygments_lexer": "ipython3",
   "version": "3.7.2"
  }
 },
 "nbformat": 4,
 "nbformat_minor": 2
}
